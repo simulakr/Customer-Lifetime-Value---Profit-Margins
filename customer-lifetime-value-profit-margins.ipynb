{
 "cells": [
  {
   "cell_type": "code",
   "execution_count": 1,
   "id": "156e3605",
   "metadata": {
    "execution": {
     "iopub.execute_input": "2025-01-07T11:48:46.646809Z",
     "iopub.status.busy": "2025-01-07T11:48:46.646433Z",
     "iopub.status.idle": "2025-01-07T11:48:46.660332Z",
     "shell.execute_reply": "2025-01-07T11:48:46.659228Z"
    },
    "papermill": {
     "duration": 0.022833,
     "end_time": "2025-01-07T11:48:46.662035",
     "exception": false,
     "start_time": "2025-01-07T11:48:46.639202",
     "status": "completed"
    },
    "tags": []
   },
   "outputs": [
    {
     "data": {
      "image/png": "[encoded data removed]",
      "text/plain": [
       "<IPython.core.display.Image object>"
      ]
     },
     "metadata": {},
     "output_type": "display_data"
    }
   ],
   "source": [
    "import os\n",
    "from IPython.display import Image, display\n",
    "\n",
    "file_path = '/kaggle/input/clv-image/64a6e6195504bebc190de7e1_Aret. CLV Alex.png'\n",
    "\n",
    "display(Image(filename=file_path))"
   ]
  },
  {
   "cell_type": "markdown",
   "id": "9773d565",
   "metadata": {
    "id": "zfdLojZHeQqA",
    "papermill": {
     "duration": 0.005655,
     "end_time": "2025-01-07T11:48:46.674121",
     "exception": false,
     "start_time": "2025-01-07T11:48:46.668466",
     "status": "completed"
    },
    "tags": []
   },
   "source": [
    "# Customer Life Time Values Analysis"
   ]
  },
  {
   "cell_type": "markdown",
   "id": "cd893f13",
   "metadata": {
    "id": "2E_o9vCPfCy_",
    "papermill": {
     "duration": 0.005427,
     "end_time": "2025-01-07T11:48:46.685374",
     "exception": false,
     "start_time": "2025-01-07T11:48:46.679947",
     "status": "completed"
    },
    "tags": []
   },
   "source": [
    "Customer Lifetime Value Analysis is a metric that measures the total net value a customer will bring to a business from the beginning to the end of their relationship. This analysis helps businesses better understand their customers, optimize marketing strategies, and increase profitability.\n",
    "\n",
    "**Customer Lifetime Value Calculation:**\n",
    "\n",
    "---\n",
    "\n",
    "\n",
    "\n",
    "There are several methods to calculate Customer Lifetime Value (CLV). The most basic formula is as follows:\n",
    "\n",
    "CLV\n",
    "=\n",
    "Average Order Value\n",
    "×\n",
    "Purchase Frequency\n",
    "×\n",
    "Customer Lifespan\n",
    "\n",
    "\n",
    "\n",
    "Components:\n",
    "\n",
    "**1. Average Order Value (AOV):** The average amount a customer spends per purchase.\n",
    "\n",
    "**2. Purchase Frequency:** The number of times a customer makes a purchase within a given period.\n",
    "\n",
    "**3. Customer Lifespan:** The average time a customer remains in a relationship with the business. For example, 9 months, 2 years etc."
   ]
  },
  {
   "cell_type": "markdown",
   "id": "4a45071c",
   "metadata": {
    "id": "YncL6tY9coHN",
    "papermill": {
     "duration": 0.005371,
     "end_time": "2025-01-07T11:48:46.696713",
     "exception": false,
     "start_time": "2025-01-07T11:48:46.691342",
     "status": "completed"
    },
    "tags": []
   },
   "source": [
    "**3 Ways to Calculate Profit Margins**\n",
    "  \n",
    "  ---\n",
    "  \n",
    "* gross_margin_rate = (Revenue - Cost of goods sold) / Revenue X 100\n",
    "* operation_margin_rate = (Revenue - Cost of Goods Sold - Business Operating Expenses) / Revenue X 100\n",
    "* net_margin_rate = (Revenue - Cost of goods sold- Business Operating Expenses - interests - taxes - debt repayments) / Revenue X 100"
   ]
  },
  {
   "cell_type": "markdown",
   "id": "d9909a34",
   "metadata": {
    "id": "-JVXZYtJmbh-",
    "papermill": {
     "duration": 0.005355,
     "end_time": "2025-01-07T11:48:46.707778",
     "exception": false,
     "start_time": "2025-01-07T11:48:46.702423",
     "status": "completed"
    },
    "tags": []
   },
   "source": [
    "**Variables**\n",
    "\n",
    "---\n",
    "\n",
    "\n",
    "* InvoiceNo: Invoice number. Unique number for each transaction, that is, the invoice. Canceled transaction if it starts with C.\n",
    "* StockCode: Product code. Unique number for each product.\n",
    "* Description: Product name\n",
    "* Quantity: Number of products. Indicates how many of the products on the invoices were sold.\n",
    "* InvoiceDate: Invoice date and time.\n",
    "* UnitPrice: Product price (in pounds)\n",
    "* Customer ID: Unique customer number\n",
    "* Country: Country name. Country where the customer lives."
   ]
  },
  {
   "cell_type": "markdown",
   "id": "4ceadceb",
   "metadata": {
    "id": "llSLmWMpeean",
    "papermill": {
     "duration": 0.005546,
     "end_time": "2025-01-07T11:48:46.718998",
     "exception": false,
     "start_time": "2025-01-07T11:48:46.713452",
     "status": "completed"
    },
    "tags": []
   },
   "source": [
    "## Importing Libraries"
   ]
  },
  {
   "cell_type": "code",
   "execution_count": 2,
   "id": "2c2df9e0",
   "metadata": {
    "execution": {
     "iopub.execute_input": "2025-01-07T11:48:46.731750Z",
     "iopub.status.busy": "2025-01-07T11:48:46.731431Z",
     "iopub.status.idle": "2025-01-07T11:48:47.107358Z",
     "shell.execute_reply": "2025-01-07T11:48:47.106134Z"
    },
    "id": "TN-5b908eJaH",
    "papermill": {
     "duration": 0.384457,
     "end_time": "2025-01-07T11:48:47.109260",
     "exception": false,
     "start_time": "2025-01-07T11:48:46.724803",
     "status": "completed"
    },
    "tags": []
   },
   "outputs": [],
   "source": [
    "import datetime\n",
    "import pandas as pd\n",
    "pd.set_option('display.max_columns', None)\n",
    "pd.set_option('display.max_rows', None)\n",
    "pd.set_option('display.float_format', lambda x: '%.5f' % x)"
   ]
  },
  {
   "cell_type": "markdown",
   "id": "08f39585",
   "metadata": {
    "id": "v3M8uNkym9f_",
    "papermill": {
     "duration": 0.005702,
     "end_time": "2025-01-07T11:48:47.121242",
     "exception": false,
     "start_time": "2025-01-07T11:48:47.115540",
     "status": "completed"
    },
    "tags": []
   },
   "source": [
    "## Examining Dataset"
   ]
  },
  {
   "cell_type": "code",
   "execution_count": 3,
   "id": "d2834651",
   "metadata": {
    "execution": {
     "iopub.execute_input": "2025-01-07T11:48:47.134706Z",
     "iopub.status.busy": "2025-01-07T11:48:47.134250Z",
     "iopub.status.idle": "2025-01-07T11:49:44.686432Z",
     "shell.execute_reply": "2025-01-07T11:49:44.685298Z"
    },
    "id": "uHxR4qoqm0gx",
    "papermill": {
     "duration": 57.566149,
     "end_time": "2025-01-07T11:49:44.693492",
     "exception": false,
     "start_time": "2025-01-07T11:48:47.127343",
     "status": "completed"
    },
    "tags": []
   },
   "outputs": [
    {
     "data": {
      "text/html": [
       "<div>\n",
       "<style scoped>\n",
       "    .dataframe tbody tr th:only-of-type {\n",
       "        vertical-align: middle;\n",
       "    }\n",
       "\n",
       "    .dataframe tbody tr th {\n",
       "        vertical-align: top;\n",
       "    }\n",
       "\n",
       "    .dataframe thead th {\n",
       "        text-align: right;\n",
       "    }\n",
       "</style>\n",
       "<table border=\"1\" class=\"dataframe\">\n",
       "  <thead>\n",
       "    <tr style=\"text-align: right;\">\n",
       "      <th></th>\n",
       "      <th>Invoice</th>\n",
       "      <th>StockCode</th>\n",
       "      <th>Description</th>\n",
       "      <th>Quantity</th>\n",
       "      <th>InvoiceDate</th>\n",
       "      <th>Price</th>\n",
       "      <th>Customer ID</th>\n",
       "      <th>Country</th>\n",
       "    </tr>\n",
       "  </thead>\n",
       "  <tbody>\n",
       "    <tr>\n",
       "      <th>0</th>\n",
       "      <td>489434</td>\n",
       "      <td>85048</td>\n",
       "      <td>15CM CHRISTMAS GLASS BALL 20 LIGHTS</td>\n",
       "      <td>12</td>\n",
       "      <td>2009-12-01 07:45:00</td>\n",
       "      <td>6.95000</td>\n",
       "      <td>13085.00000</td>\n",
       "      <td>United Kingdom</td>\n",
       "    </tr>\n",
       "    <tr>\n",
       "      <th>1</th>\n",
       "      <td>489434</td>\n",
       "      <td>79323P</td>\n",
       "      <td>PINK CHERRY LIGHTS</td>\n",
       "      <td>12</td>\n",
       "      <td>2009-12-01 07:45:00</td>\n",
       "      <td>6.75000</td>\n",
       "      <td>13085.00000</td>\n",
       "      <td>United Kingdom</td>\n",
       "    </tr>\n",
       "    <tr>\n",
       "      <th>2</th>\n",
       "      <td>489434</td>\n",
       "      <td>79323W</td>\n",
       "      <td>WHITE CHERRY LIGHTS</td>\n",
       "      <td>12</td>\n",
       "      <td>2009-12-01 07:45:00</td>\n",
       "      <td>6.75000</td>\n",
       "      <td>13085.00000</td>\n",
       "      <td>United Kingdom</td>\n",
       "    </tr>\n",
       "    <tr>\n",
       "      <th>3</th>\n",
       "      <td>489434</td>\n",
       "      <td>22041</td>\n",
       "      <td>RECORD FRAME 7\" SINGLE SIZE</td>\n",
       "      <td>48</td>\n",
       "      <td>2009-12-01 07:45:00</td>\n",
       "      <td>2.10000</td>\n",
       "      <td>13085.00000</td>\n",
       "      <td>United Kingdom</td>\n",
       "    </tr>\n",
       "    <tr>\n",
       "      <th>4</th>\n",
       "      <td>489434</td>\n",
       "      <td>21232</td>\n",
       "      <td>STRAWBERRY CERAMIC TRINKET BOX</td>\n",
       "      <td>24</td>\n",
       "      <td>2009-12-01 07:45:00</td>\n",
       "      <td>1.25000</td>\n",
       "      <td>13085.00000</td>\n",
       "      <td>United Kingdom</td>\n",
       "    </tr>\n",
       "  </tbody>\n",
       "</table>\n",
       "</div>"
      ],
      "text/plain": [
       "  Invoice StockCode                          Description  Quantity  \\\n",
       "0  489434     85048  15CM CHRISTMAS GLASS BALL 20 LIGHTS        12   \n",
       "1  489434    79323P                   PINK CHERRY LIGHTS        12   \n",
       "2  489434    79323W                  WHITE CHERRY LIGHTS        12   \n",
       "3  489434     22041         RECORD FRAME 7\" SINGLE SIZE         48   \n",
       "4  489434     21232       STRAWBERRY CERAMIC TRINKET BOX        24   \n",
       "\n",
       "          InvoiceDate   Price  Customer ID         Country  \n",
       "0 2009-12-01 07:45:00 6.95000  13085.00000  United Kingdom  \n",
       "1 2009-12-01 07:45:00 6.75000  13085.00000  United Kingdom  \n",
       "2 2009-12-01 07:45:00 6.75000  13085.00000  United Kingdom  \n",
       "3 2009-12-01 07:45:00 2.10000  13085.00000  United Kingdom  \n",
       "4 2009-12-01 07:45:00 1.25000  13085.00000  United Kingdom  "
      ]
     },
     "execution_count": 3,
     "metadata": {},
     "output_type": "execute_result"
    }
   ],
   "source": [
    "df_ = pd.read_excel(\"/kaggle/input/online-retail-excel/online_retail_II.xlsx\", sheet_name=\"Year 2009-2010\")\n",
    "df = df_.copy()\n",
    "df.head()"
   ]
  },
  {
   "cell_type": "code",
   "execution_count": 4,
   "id": "177b89a5",
   "metadata": {
    "execution": {
     "iopub.execute_input": "2025-01-07T11:49:44.707132Z",
     "iopub.status.busy": "2025-01-07T11:49:44.706599Z",
     "iopub.status.idle": "2025-01-07T11:49:44.828700Z",
     "shell.execute_reply": "2025-01-07T11:49:44.827397Z"
    },
    "id": "iauWBC8Lm5xa",
    "papermill": {
     "duration": 0.131018,
     "end_time": "2025-01-07T11:49:44.830540",
     "exception": false,
     "start_time": "2025-01-07T11:49:44.699522",
     "status": "completed"
    },
    "tags": []
   },
   "outputs": [
    {
     "name": "stdout",
     "output_type": "stream",
     "text": [
      "<class 'pandas.core.frame.DataFrame'>\n",
      "RangeIndex: 525461 entries, 0 to 525460\n",
      "Data columns (total 8 columns):\n",
      " #   Column       Non-Null Count   Dtype         \n",
      "---  ------       --------------   -----         \n",
      " 0   Invoice      525461 non-null  object        \n",
      " 1   StockCode    525461 non-null  object        \n",
      " 2   Description  522533 non-null  object        \n",
      " 3   Quantity     525461 non-null  int64         \n",
      " 4   InvoiceDate  525461 non-null  datetime64[ns]\n",
      " 5   Price        525461 non-null  float64       \n",
      " 6   Customer ID  417534 non-null  float64       \n",
      " 7   Country      525461 non-null  object        \n",
      "dtypes: datetime64[ns](1), float64(2), int64(1), object(4)\n",
      "memory usage: 32.1+ MB\n"
     ]
    }
   ],
   "source": [
    "df.info()"
   ]
  },
  {
   "cell_type": "code",
   "execution_count": 5,
   "id": "2180d2ad",
   "metadata": {
    "execution": {
     "iopub.execute_input": "2025-01-07T11:49:44.844681Z",
     "iopub.status.busy": "2025-01-07T11:49:44.844330Z",
     "iopub.status.idle": "2025-01-07T11:49:44.952126Z",
     "shell.execute_reply": "2025-01-07T11:49:44.950971Z"
    },
    "id": "1RtbG5DHnD01",
    "papermill": {
     "duration": 0.116531,
     "end_time": "2025-01-07T11:49:44.953788",
     "exception": false,
     "start_time": "2025-01-07T11:49:44.837257",
     "status": "completed"
    },
    "tags": []
   },
   "outputs": [
    {
     "data": {
      "text/plain": [
       "Invoice             0\n",
       "StockCode           0\n",
       "Description      2928\n",
       "Quantity            0\n",
       "InvoiceDate         0\n",
       "Price               0\n",
       "Customer ID    107927\n",
       "Country             0\n",
       "dtype: int64"
      ]
     },
     "execution_count": 5,
     "metadata": {},
     "output_type": "execute_result"
    }
   ],
   "source": [
    "df.isnull().sum()"
   ]
  },
  {
   "cell_type": "code",
   "execution_count": 6,
   "id": "22948082",
   "metadata": {
    "execution": {
     "iopub.execute_input": "2025-01-07T11:49:44.968216Z",
     "iopub.status.busy": "2025-01-07T11:49:44.967822Z",
     "iopub.status.idle": "2025-01-07T11:49:45.643134Z",
     "shell.execute_reply": "2025-01-07T11:49:45.642136Z"
    },
    "id": "MY-YWDcNnFvL",
    "papermill": {
     "duration": 0.684475,
     "end_time": "2025-01-07T11:49:45.644885",
     "exception": false,
     "start_time": "2025-01-07T11:49:44.960410",
     "status": "completed"
    },
    "tags": []
   },
   "outputs": [],
   "source": [
    "# We remove the returned ones from the dataframe.\n",
    "df = df[~df['Invoice'].str.contains('C',na=False)]\n",
    "df = df[df['Quantity']>0]\n",
    "df = df.dropna(subset= ['Customer ID'])"
   ]
  },
  {
   "cell_type": "code",
   "execution_count": 7,
   "id": "6def924f",
   "metadata": {
    "execution": {
     "iopub.execute_input": "2025-01-07T11:49:45.658894Z",
     "iopub.status.busy": "2025-01-07T11:49:45.658563Z",
     "iopub.status.idle": "2025-01-07T11:49:45.731307Z",
     "shell.execute_reply": "2025-01-07T11:49:45.730256Z"
    },
    "id": "fBYDr14_oFFm",
    "papermill": {
     "duration": 0.081594,
     "end_time": "2025-01-07T11:49:45.733075",
     "exception": false,
     "start_time": "2025-01-07T11:49:45.651481",
     "status": "completed"
    },
    "tags": []
   },
   "outputs": [
    {
     "data": {
      "text/html": [
       "<div>\n",
       "<style scoped>\n",
       "    .dataframe tbody tr th:only-of-type {\n",
       "        vertical-align: middle;\n",
       "    }\n",
       "\n",
       "    .dataframe tbody tr th {\n",
       "        vertical-align: top;\n",
       "    }\n",
       "\n",
       "    .dataframe thead th {\n",
       "        text-align: right;\n",
       "    }\n",
       "</style>\n",
       "<table border=\"1\" class=\"dataframe\">\n",
       "  <thead>\n",
       "    <tr style=\"text-align: right;\">\n",
       "      <th></th>\n",
       "      <th>count</th>\n",
       "      <th>mean</th>\n",
       "      <th>min</th>\n",
       "      <th>25%</th>\n",
       "      <th>50%</th>\n",
       "      <th>75%</th>\n",
       "      <th>max</th>\n",
       "      <th>std</th>\n",
       "    </tr>\n",
       "  </thead>\n",
       "  <tbody>\n",
       "    <tr>\n",
       "      <th>Quantity</th>\n",
       "      <td>407695.00000</td>\n",
       "      <td>13.58669</td>\n",
       "      <td>1.00000</td>\n",
       "      <td>2.00000</td>\n",
       "      <td>5.00000</td>\n",
       "      <td>12.00000</td>\n",
       "      <td>19152.00000</td>\n",
       "      <td>96.84223</td>\n",
       "    </tr>\n",
       "    <tr>\n",
       "      <th>InvoiceDate</th>\n",
       "      <td>407695</td>\n",
       "      <td>2010-07-01 10:10:10.782177792</td>\n",
       "      <td>2009-12-01 07:45:00</td>\n",
       "      <td>2010-03-26 14:01:00</td>\n",
       "      <td>2010-07-09 15:46:00</td>\n",
       "      <td>2010-10-14 17:09:00</td>\n",
       "      <td>2010-12-09 20:01:00</td>\n",
       "      <td>NaN</td>\n",
       "    </tr>\n",
       "    <tr>\n",
       "      <th>Price</th>\n",
       "      <td>407695.00000</td>\n",
       "      <td>3.29419</td>\n",
       "      <td>0.00000</td>\n",
       "      <td>1.25000</td>\n",
       "      <td>1.95000</td>\n",
       "      <td>3.75000</td>\n",
       "      <td>10953.50000</td>\n",
       "      <td>34.75666</td>\n",
       "    </tr>\n",
       "    <tr>\n",
       "      <th>Customer ID</th>\n",
       "      <td>407695.00000</td>\n",
       "      <td>15368.50411</td>\n",
       "      <td>12346.00000</td>\n",
       "      <td>13997.00000</td>\n",
       "      <td>15321.00000</td>\n",
       "      <td>16812.00000</td>\n",
       "      <td>18287.00000</td>\n",
       "      <td>1679.79570</td>\n",
       "    </tr>\n",
       "  </tbody>\n",
       "</table>\n",
       "</div>"
      ],
      "text/plain": [
       "                   count                           mean                  min  \\\n",
       "Quantity    407695.00000                       13.58669              1.00000   \n",
       "InvoiceDate       407695  2010-07-01 10:10:10.782177792  2009-12-01 07:45:00   \n",
       "Price       407695.00000                        3.29419              0.00000   \n",
       "Customer ID 407695.00000                    15368.50411          12346.00000   \n",
       "\n",
       "                             25%                  50%                  75%  \\\n",
       "Quantity                 2.00000              5.00000             12.00000   \n",
       "InvoiceDate  2010-03-26 14:01:00  2010-07-09 15:46:00  2010-10-14 17:09:00   \n",
       "Price                    1.25000              1.95000              3.75000   \n",
       "Customer ID          13997.00000          15321.00000          16812.00000   \n",
       "\n",
       "                             max        std  \n",
       "Quantity             19152.00000   96.84223  \n",
       "InvoiceDate  2010-12-09 20:01:00        NaN  \n",
       "Price                10953.50000   34.75666  \n",
       "Customer ID          18287.00000 1679.79570  "
      ]
     },
     "execution_count": 7,
     "metadata": {},
     "output_type": "execute_result"
    }
   ],
   "source": [
    "df.describe().T"
   ]
  },
  {
   "cell_type": "code",
   "execution_count": 8,
   "id": "74390162",
   "metadata": {
    "execution": {
     "iopub.execute_input": "2025-01-07T11:49:45.748076Z",
     "iopub.status.busy": "2025-01-07T11:49:45.747681Z",
     "iopub.status.idle": "2025-01-07T11:49:45.754698Z",
     "shell.execute_reply": "2025-01-07T11:49:45.753792Z"
    },
    "id": "L-GHt_oGoFIL",
    "papermill": {
     "duration": 0.016519,
     "end_time": "2025-01-07T11:49:45.756523",
     "exception": false,
     "start_time": "2025-01-07T11:49:45.740004",
     "status": "completed"
    },
    "tags": []
   },
   "outputs": [],
   "source": [
    "df['Total Price'] = df['Quantity'] * df['Price']"
   ]
  },
  {
   "cell_type": "code",
   "execution_count": 9,
   "id": "9d3fb122",
   "metadata": {
    "execution": {
     "iopub.execute_input": "2025-01-07T11:49:45.771583Z",
     "iopub.status.busy": "2025-01-07T11:49:45.771252Z",
     "iopub.status.idle": "2025-01-07T11:49:46.419301Z",
     "shell.execute_reply": "2025-01-07T11:49:46.418437Z"
    },
    "id": "MXsM3iUwoFNQ",
    "papermill": {
     "duration": 0.657555,
     "end_time": "2025-01-07T11:49:46.421072",
     "exception": false,
     "start_time": "2025-01-07T11:49:45.763517",
     "status": "completed"
    },
    "tags": []
   },
   "outputs": [],
   "source": [
    "cltv_df = df.groupby('Customer ID').agg({'Invoice': lambda x: x.nunique(),\n",
    "                                        'Quantity': lambda x: x.sum(),\n",
    "                                        'Total Price': lambda x: x.sum()})\n",
    "cltv_df.columns = ['Total_transactions', 'Total_unit', 'Total_price']"
   ]
  },
  {
   "cell_type": "markdown",
   "id": "d8c8a72e",
   "metadata": {
    "id": "9cNCVPrvp6r7",
    "papermill": {
     "duration": 0.006537,
     "end_time": "2025-01-07T11:49:46.434449",
     "exception": false,
     "start_time": "2025-01-07T11:49:46.427912",
     "status": "completed"
    },
    "tags": []
   },
   "source": [
    "## Average Order Value"
   ]
  },
  {
   "cell_type": "code",
   "execution_count": 10,
   "id": "053c988e",
   "metadata": {
    "execution": {
     "iopub.execute_input": "2025-01-07T11:49:46.449990Z",
     "iopub.status.busy": "2025-01-07T11:49:46.449627Z",
     "iopub.status.idle": "2025-01-07T11:49:46.454752Z",
     "shell.execute_reply": "2025-01-07T11:49:46.453846Z"
    },
    "id": "njkw-XBQp6zM",
    "papermill": {
     "duration": 0.015058,
     "end_time": "2025-01-07T11:49:46.456399",
     "exception": false,
     "start_time": "2025-01-07T11:49:46.441341",
     "status": "completed"
    },
    "tags": []
   },
   "outputs": [],
   "source": [
    "cltv_df['average_order_value'] = cltv_df['Total_price'] / cltv_df['Total_unit']"
   ]
  },
  {
   "cell_type": "markdown",
   "id": "92f43e95",
   "metadata": {
    "id": "s3cHaF28p-DA",
    "papermill": {
     "duration": 0.006679,
     "end_time": "2025-01-07T11:49:46.470142",
     "exception": false,
     "start_time": "2025-01-07T11:49:46.463463",
     "status": "completed"
    },
    "tags": []
   },
   "source": [
    "## Purchase Frequency"
   ]
  },
  {
   "cell_type": "code",
   "execution_count": 11,
   "id": "d50d9c48",
   "metadata": {
    "execution": {
     "iopub.execute_input": "2025-01-07T11:49:46.484986Z",
     "iopub.status.busy": "2025-01-07T11:49:46.484613Z",
     "iopub.status.idle": "2025-01-07T11:49:46.489809Z",
     "shell.execute_reply": "2025-01-07T11:49:46.488936Z"
    },
    "id": "1TEocdU8p-Le",
    "papermill": {
     "duration": 0.014468,
     "end_time": "2025-01-07T11:49:46.491411",
     "exception": false,
     "start_time": "2025-01-07T11:49:46.476943",
     "status": "completed"
    },
    "tags": []
   },
   "outputs": [],
   "source": [
    "cltv_df['purchase_frequency'] = cltv_df['Total_transactions'] / cltv_df.shape[0]"
   ]
  },
  {
   "cell_type": "markdown",
   "id": "6b0ae481",
   "metadata": {
    "id": "Z2cYB9GHp-bg",
    "papermill": {
     "duration": 0.006462,
     "end_time": "2025-01-07T11:49:46.505034",
     "exception": false,
     "start_time": "2025-01-07T11:49:46.498572",
     "status": "completed"
    },
    "tags": []
   },
   "source": [
    "## Repeat Rate & Churn Rate"
   ]
  },
  {
   "cell_type": "code",
   "execution_count": 12,
   "id": "dfc2dcbe",
   "metadata": {
    "execution": {
     "iopub.execute_input": "2025-01-07T11:49:46.519830Z",
     "iopub.status.busy": "2025-01-07T11:49:46.519500Z",
     "iopub.status.idle": "2025-01-07T11:49:46.524971Z",
     "shell.execute_reply": "2025-01-07T11:49:46.524063Z"
    },
    "id": "NNkBZ7VFqcGB",
    "papermill": {
     "duration": 0.014721,
     "end_time": "2025-01-07T11:49:46.526580",
     "exception": false,
     "start_time": "2025-01-07T11:49:46.511859",
     "status": "completed"
    },
    "tags": []
   },
   "outputs": [],
   "source": [
    "repeat_rate = cltv_df[cltv_df['Total_transactions']>1].shape[0] / cltv_df.shape[0]\n",
    "churn_rate = 1- repeat_rate"
   ]
  },
  {
   "cell_type": "markdown",
   "id": "a19c8b5f",
   "metadata": {
    "id": "ydyYsIaxrTxu",
    "papermill": {
     "duration": 0.006524,
     "end_time": "2025-01-07T11:49:46.540002",
     "exception": false,
     "start_time": "2025-01-07T11:49:46.533478",
     "status": "completed"
    },
    "tags": []
   },
   "source": [
    "## Profit Margin"
   ]
  },
  {
   "cell_type": "markdown",
   "id": "34747831",
   "metadata": {
    "id": "DJ7YQP43aRmR",
    "papermill": {
     "duration": 0.00635,
     "end_time": "2025-01-07T11:49:46.553133",
     "exception": false,
     "start_time": "2025-01-07T11:49:46.546783",
     "status": "completed"
    },
    "tags": []
   },
   "source": [
    "### **3 Ways to Calculate Profit Margins**\n",
    "* gross_margin_rate = (Revenue - Cost of goods sold) / Revenue X 100\n",
    "* operation_margin_rate = (Revenue - Cost of Goods Sold - Business Operating Expenses) / Revenue X 100\n",
    "* net_margin_rate = (Revenue - Cost of goods sold- Business Operating Expenses - interests - taxes - debt repayments) / Revenue X 100\n",
    "\n",
    "\n",
    "\n",
    "\n"
   ]
  },
  {
   "cell_type": "code",
   "execution_count": 13,
   "id": "3fa96470",
   "metadata": {
    "execution": {
     "iopub.execute_input": "2025-01-07T11:49:46.568066Z",
     "iopub.status.busy": "2025-01-07T11:49:46.567697Z",
     "iopub.status.idle": "2025-01-07T11:49:46.572170Z",
     "shell.execute_reply": "2025-01-07T11:49:46.571300Z"
    },
    "id": "1TqHEe6Urfqd",
    "papermill": {
     "duration": 0.01375,
     "end_time": "2025-01-07T11:49:46.573660",
     "exception": false,
     "start_time": "2025-01-07T11:49:46.559910",
     "status": "completed"
    },
    "tags": []
   },
   "outputs": [],
   "source": [
    "Revenue = 100\n",
    "Cost_of_gs = 40\n",
    "Boe = 10\n",
    "int_tax_debt = 10\n",
    "\n",
    "gross_margin_rate = (Revenue - Cost_of_gs) / Revenue # 0.6 We use gross margin rate.\n",
    "operation_margin_rate = (Revenue - Cost_of_gs - Boe) / Revenue # 0.4\n",
    "net_margin_rate = (Revenue - Cost_of_gs - Boe - int_tax_debt) / Revenue # 0.3\n"
   ]
  },
  {
   "cell_type": "markdown",
   "id": "4c7029f8",
   "metadata": {
    "id": "2nzjFrjGruxn",
    "papermill": {
     "duration": 0.006519,
     "end_time": "2025-01-07T11:49:46.587090",
     "exception": false,
     "start_time": "2025-01-07T11:49:46.580571",
     "status": "completed"
    },
    "tags": []
   },
   "source": [
    "## Customer Value"
   ]
  },
  {
   "cell_type": "code",
   "execution_count": 14,
   "id": "f5236375",
   "metadata": {
    "execution": {
     "iopub.execute_input": "2025-01-07T11:49:46.601702Z",
     "iopub.status.busy": "2025-01-07T11:49:46.601374Z",
     "iopub.status.idle": "2025-01-07T11:49:46.606473Z",
     "shell.execute_reply": "2025-01-07T11:49:46.605443Z"
    },
    "id": "pNxh9K2zrwwm",
    "papermill": {
     "duration": 0.014296,
     "end_time": "2025-01-07T11:49:46.608170",
     "exception": false,
     "start_time": "2025-01-07T11:49:46.593874",
     "status": "completed"
    },
    "tags": []
   },
   "outputs": [],
   "source": [
    "cltv_df['customer_value'] = cltv_df['average_order_value'] * cltv_df['purchase_frequency']"
   ]
  },
  {
   "cell_type": "markdown",
   "id": "41e07bef",
   "metadata": {
    "id": "42AudABdp-hv",
    "papermill": {
     "duration": 0.006508,
     "end_time": "2025-01-07T11:49:46.621773",
     "exception": false,
     "start_time": "2025-01-07T11:49:46.615265",
     "status": "completed"
    },
    "tags": []
   },
   "source": [
    "## Customer Lifetime Value\n",
    "**CLTV = (customer_value / churn_rate) x profit_margin**"
   ]
  },
  {
   "cell_type": "code",
   "execution_count": 15,
   "id": "ffc0a608",
   "metadata": {
    "execution": {
     "iopub.execute_input": "2025-01-07T11:49:46.636680Z",
     "iopub.status.busy": "2025-01-07T11:49:46.636308Z",
     "iopub.status.idle": "2025-01-07T11:49:46.649197Z",
     "shell.execute_reply": "2025-01-07T11:49:46.648142Z"
    },
    "id": "0Nk_3vYssE7S",
    "papermill": {
     "duration": 0.022181,
     "end_time": "2025-01-07T11:49:46.650748",
     "exception": false,
     "start_time": "2025-01-07T11:49:46.628567",
     "status": "completed"
    },
    "tags": []
   },
   "outputs": [
    {
     "data": {
      "text/html": [
       "<div>\n",
       "<style scoped>\n",
       "    .dataframe tbody tr th:only-of-type {\n",
       "        vertical-align: middle;\n",
       "    }\n",
       "\n",
       "    .dataframe tbody tr th {\n",
       "        vertical-align: top;\n",
       "    }\n",
       "\n",
       "    .dataframe thead th {\n",
       "        text-align: right;\n",
       "    }\n",
       "</style>\n",
       "<table border=\"1\" class=\"dataframe\">\n",
       "  <thead>\n",
       "    <tr style=\"text-align: right;\">\n",
       "      <th></th>\n",
       "      <th>Total_transactions</th>\n",
       "      <th>Total_unit</th>\n",
       "      <th>Total_price</th>\n",
       "      <th>average_order_value</th>\n",
       "      <th>purchase_frequency</th>\n",
       "      <th>customer_value</th>\n",
       "      <th>cltv</th>\n",
       "    </tr>\n",
       "    <tr>\n",
       "      <th>Customer ID</th>\n",
       "      <th></th>\n",
       "      <th></th>\n",
       "      <th></th>\n",
       "      <th></th>\n",
       "      <th></th>\n",
       "      <th></th>\n",
       "      <th></th>\n",
       "    </tr>\n",
       "  </thead>\n",
       "  <tbody>\n",
       "    <tr>\n",
       "      <th>15760.00000</th>\n",
       "      <td>2</td>\n",
       "      <td>2</td>\n",
       "      <td>13916.34000</td>\n",
       "      <td>6958.17000</td>\n",
       "      <td>0.00046</td>\n",
       "      <td>3.22586</td>\n",
       "      <td>5.87601</td>\n",
       "    </tr>\n",
       "    <tr>\n",
       "      <th>12918.00000</th>\n",
       "      <td>1</td>\n",
       "      <td>1</td>\n",
       "      <td>10953.50000</td>\n",
       "      <td>10953.50000</td>\n",
       "      <td>0.00023</td>\n",
       "      <td>2.53906</td>\n",
       "      <td>4.62498</td>\n",
       "    </tr>\n",
       "    <tr>\n",
       "      <th>15202.00000</th>\n",
       "      <td>3</td>\n",
       "      <td>3</td>\n",
       "      <td>6001.49000</td>\n",
       "      <td>2000.49667</td>\n",
       "      <td>0.00070</td>\n",
       "      <td>1.39117</td>\n",
       "      <td>2.53406</td>\n",
       "    </tr>\n",
       "    <tr>\n",
       "      <th>12737.00000</th>\n",
       "      <td>2</td>\n",
       "      <td>2</td>\n",
       "      <td>3710.50000</td>\n",
       "      <td>1855.25000</td>\n",
       "      <td>0.00046</td>\n",
       "      <td>0.86011</td>\n",
       "      <td>1.56671</td>\n",
       "    </tr>\n",
       "    <tr>\n",
       "      <th>14802.00000</th>\n",
       "      <td>2</td>\n",
       "      <td>2</td>\n",
       "      <td>1502.98000</td>\n",
       "      <td>751.49000</td>\n",
       "      <td>0.00046</td>\n",
       "      <td>0.34840</td>\n",
       "      <td>0.63462</td>\n",
       "    </tr>\n",
       "  </tbody>\n",
       "</table>\n",
       "</div>"
      ],
      "text/plain": [
       "             Total_transactions  Total_unit  Total_price  average_order_value  \\\n",
       "Customer ID                                                                     \n",
       "15760.00000                   2           2  13916.34000           6958.17000   \n",
       "12918.00000                   1           1  10953.50000          10953.50000   \n",
       "15202.00000                   3           3   6001.49000           2000.49667   \n",
       "12737.00000                   2           2   3710.50000           1855.25000   \n",
       "14802.00000                   2           2   1502.98000            751.49000   \n",
       "\n",
       "             purchase_frequency  customer_value    cltv  \n",
       "Customer ID                                              \n",
       "15760.00000             0.00046         3.22586 5.87601  \n",
       "12918.00000             0.00023         2.53906 4.62498  \n",
       "15202.00000             0.00070         1.39117 2.53406  \n",
       "12737.00000             0.00046         0.86011 1.56671  \n",
       "14802.00000             0.00046         0.34840 0.63462  "
      ]
     },
     "execution_count": 15,
     "metadata": {},
     "output_type": "execute_result"
    }
   ],
   "source": [
    "cltv_df['cltv'] = (cltv_df['customer_value']/ churn_rate) * gross_margin_rate\n",
    "cltv_df.sort_values(by='cltv',ascending=False).head()"
   ]
  },
  {
   "cell_type": "markdown",
   "id": "82e0690e",
   "metadata": {
    "id": "okDTMcaRsxit",
    "papermill": {
     "duration": 0.006757,
     "end_time": "2025-01-07T11:49:46.664854",
     "exception": false,
     "start_time": "2025-01-07T11:49:46.658097",
     "status": "completed"
    },
    "tags": []
   },
   "source": [
    "# Creating Segments"
   ]
  },
  {
   "cell_type": "code",
   "execution_count": 16,
   "id": "25b2508f",
   "metadata": {
    "execution": {
     "iopub.execute_input": "2025-01-07T11:49:46.680512Z",
     "iopub.status.busy": "2025-01-07T11:49:46.680162Z",
     "iopub.status.idle": "2025-01-07T11:49:46.695124Z",
     "shell.execute_reply": "2025-01-07T11:49:46.693988Z"
    },
    "id": "exYPL9tdsz9L",
    "papermill": {
     "duration": 0.024635,
     "end_time": "2025-01-07T11:49:46.696719",
     "exception": false,
     "start_time": "2025-01-07T11:49:46.672084",
     "status": "completed"
    },
    "tags": []
   },
   "outputs": [
    {
     "data": {
      "text/html": [
       "<div>\n",
       "<style scoped>\n",
       "    .dataframe tbody tr th:only-of-type {\n",
       "        vertical-align: middle;\n",
       "    }\n",
       "\n",
       "    .dataframe tbody tr th {\n",
       "        vertical-align: top;\n",
       "    }\n",
       "\n",
       "    .dataframe thead th {\n",
       "        text-align: right;\n",
       "    }\n",
       "</style>\n",
       "<table border=\"1\" class=\"dataframe\">\n",
       "  <thead>\n",
       "    <tr style=\"text-align: right;\">\n",
       "      <th></th>\n",
       "      <th>Total_transactions</th>\n",
       "      <th>Total_unit</th>\n",
       "      <th>Total_price</th>\n",
       "      <th>average_order_value</th>\n",
       "      <th>purchase_frequency</th>\n",
       "      <th>customer_value</th>\n",
       "      <th>cltv</th>\n",
       "      <th>segment</th>\n",
       "    </tr>\n",
       "    <tr>\n",
       "      <th>Customer ID</th>\n",
       "      <th></th>\n",
       "      <th></th>\n",
       "      <th></th>\n",
       "      <th></th>\n",
       "      <th></th>\n",
       "      <th></th>\n",
       "      <th></th>\n",
       "      <th></th>\n",
       "    </tr>\n",
       "  </thead>\n",
       "  <tbody>\n",
       "    <tr>\n",
       "      <th>15760.00000</th>\n",
       "      <td>2</td>\n",
       "      <td>2</td>\n",
       "      <td>13916.34000</td>\n",
       "      <td>6958.17000</td>\n",
       "      <td>0.00046</td>\n",
       "      <td>3.22586</td>\n",
       "      <td>5.87601</td>\n",
       "      <td>A</td>\n",
       "    </tr>\n",
       "    <tr>\n",
       "      <th>12918.00000</th>\n",
       "      <td>1</td>\n",
       "      <td>1</td>\n",
       "      <td>10953.50000</td>\n",
       "      <td>10953.50000</td>\n",
       "      <td>0.00023</td>\n",
       "      <td>2.53906</td>\n",
       "      <td>4.62498</td>\n",
       "      <td>A</td>\n",
       "    </tr>\n",
       "    <tr>\n",
       "      <th>15202.00000</th>\n",
       "      <td>3</td>\n",
       "      <td>3</td>\n",
       "      <td>6001.49000</td>\n",
       "      <td>2000.49667</td>\n",
       "      <td>0.00070</td>\n",
       "      <td>1.39117</td>\n",
       "      <td>2.53406</td>\n",
       "      <td>A</td>\n",
       "    </tr>\n",
       "    <tr>\n",
       "      <th>12737.00000</th>\n",
       "      <td>2</td>\n",
       "      <td>2</td>\n",
       "      <td>3710.50000</td>\n",
       "      <td>1855.25000</td>\n",
       "      <td>0.00046</td>\n",
       "      <td>0.86011</td>\n",
       "      <td>1.56671</td>\n",
       "      <td>A</td>\n",
       "    </tr>\n",
       "    <tr>\n",
       "      <th>14802.00000</th>\n",
       "      <td>2</td>\n",
       "      <td>2</td>\n",
       "      <td>1502.98000</td>\n",
       "      <td>751.49000</td>\n",
       "      <td>0.00046</td>\n",
       "      <td>0.34840</td>\n",
       "      <td>0.63462</td>\n",
       "      <td>A</td>\n",
       "    </tr>\n",
       "  </tbody>\n",
       "</table>\n",
       "</div>"
      ],
      "text/plain": [
       "             Total_transactions  Total_unit  Total_price  average_order_value  \\\n",
       "Customer ID                                                                     \n",
       "15760.00000                   2           2  13916.34000           6958.17000   \n",
       "12918.00000                   1           1  10953.50000          10953.50000   \n",
       "15202.00000                   3           3   6001.49000           2000.49667   \n",
       "12737.00000                   2           2   3710.50000           1855.25000   \n",
       "14802.00000                   2           2   1502.98000            751.49000   \n",
       "\n",
       "             purchase_frequency  customer_value    cltv segment  \n",
       "Customer ID                                                      \n",
       "15760.00000             0.00046         3.22586 5.87601       A  \n",
       "12918.00000             0.00023         2.53906 4.62498       A  \n",
       "15202.00000             0.00070         1.39117 2.53406       A  \n",
       "12737.00000             0.00046         0.86011 1.56671       A  \n",
       "14802.00000             0.00046         0.34840 0.63462       A  "
      ]
     },
     "execution_count": 16,
     "metadata": {},
     "output_type": "execute_result"
    }
   ],
   "source": [
    "cltv_df['segment'] = pd.qcut(cltv_df['cltv'], 5, labels=['E','D','C','B','A'])\n",
    "cltv_df.sort_values(by='cltv',ascending=False).head()"
   ]
  },
  {
   "cell_type": "code",
   "execution_count": 17,
   "id": "c97c4627",
   "metadata": {
    "execution": {
     "iopub.execute_input": "2025-01-07T11:49:46.712883Z",
     "iopub.status.busy": "2025-01-07T11:49:46.712532Z",
     "iopub.status.idle": "2025-01-07T11:49:46.725145Z",
     "shell.execute_reply": "2025-01-07T11:49:46.724093Z"
    },
    "id": "kzCJYmrutVb9",
    "papermill": {
     "duration": 0.022948,
     "end_time": "2025-01-07T11:49:46.727160",
     "exception": false,
     "start_time": "2025-01-07T11:49:46.704212",
     "status": "completed"
    },
    "tags": []
   },
   "outputs": [
    {
     "data": {
      "text/html": [
       "<div>\n",
       "<style scoped>\n",
       "    .dataframe tbody tr th:only-of-type {\n",
       "        vertical-align: middle;\n",
       "    }\n",
       "\n",
       "    .dataframe tbody tr th {\n",
       "        vertical-align: top;\n",
       "    }\n",
       "\n",
       "    .dataframe thead th {\n",
       "        text-align: right;\n",
       "    }\n",
       "</style>\n",
       "<table border=\"1\" class=\"dataframe\">\n",
       "  <thead>\n",
       "    <tr style=\"text-align: right;\">\n",
       "      <th></th>\n",
       "      <th>Total_transactions</th>\n",
       "      <th>Total_unit</th>\n",
       "      <th>Total_price</th>\n",
       "      <th>average_order_value</th>\n",
       "      <th>purchase_frequency</th>\n",
       "      <th>customer_value</th>\n",
       "      <th>cltv</th>\n",
       "      <th>segment</th>\n",
       "    </tr>\n",
       "    <tr>\n",
       "      <th>Customer ID</th>\n",
       "      <th></th>\n",
       "      <th></th>\n",
       "      <th></th>\n",
       "      <th></th>\n",
       "      <th></th>\n",
       "      <th></th>\n",
       "      <th></th>\n",
       "      <th></th>\n",
       "    </tr>\n",
       "  </thead>\n",
       "  <tbody>\n",
       "    <tr>\n",
       "      <th>15775.00000</th>\n",
       "      <td>1</td>\n",
       "      <td>192</td>\n",
       "      <td>45.60000</td>\n",
       "      <td>0.23750</td>\n",
       "      <td>0.00023</td>\n",
       "      <td>0.00006</td>\n",
       "      <td>0.00010</td>\n",
       "      <td>E</td>\n",
       "    </tr>\n",
       "    <tr>\n",
       "      <th>14033.00000</th>\n",
       "      <td>1</td>\n",
       "      <td>576</td>\n",
       "      <td>109.44000</td>\n",
       "      <td>0.19000</td>\n",
       "      <td>0.00023</td>\n",
       "      <td>0.00004</td>\n",
       "      <td>0.00008</td>\n",
       "      <td>E</td>\n",
       "    </tr>\n",
       "    <tr>\n",
       "      <th>13687.00000</th>\n",
       "      <td>1</td>\n",
       "      <td>87167</td>\n",
       "      <td>11880.84000</td>\n",
       "      <td>0.13630</td>\n",
       "      <td>0.00023</td>\n",
       "      <td>0.00003</td>\n",
       "      <td>0.00006</td>\n",
       "      <td>E</td>\n",
       "    </tr>\n",
       "    <tr>\n",
       "      <th>14827.00000</th>\n",
       "      <td>1</td>\n",
       "      <td>5</td>\n",
       "      <td>0.00000</td>\n",
       "      <td>0.00000</td>\n",
       "      <td>0.00023</td>\n",
       "      <td>0.00000</td>\n",
       "      <td>0.00000</td>\n",
       "      <td>E</td>\n",
       "    </tr>\n",
       "    <tr>\n",
       "      <th>14103.00000</th>\n",
       "      <td>1</td>\n",
       "      <td>5</td>\n",
       "      <td>0.00000</td>\n",
       "      <td>0.00000</td>\n",
       "      <td>0.00023</td>\n",
       "      <td>0.00000</td>\n",
       "      <td>0.00000</td>\n",
       "      <td>E</td>\n",
       "    </tr>\n",
       "  </tbody>\n",
       "</table>\n",
       "</div>"
      ],
      "text/plain": [
       "             Total_transactions  Total_unit  Total_price  average_order_value  \\\n",
       "Customer ID                                                                     \n",
       "15775.00000                   1         192     45.60000              0.23750   \n",
       "14033.00000                   1         576    109.44000              0.19000   \n",
       "13687.00000                   1       87167  11880.84000              0.13630   \n",
       "14827.00000                   1           5      0.00000              0.00000   \n",
       "14103.00000                   1           5      0.00000              0.00000   \n",
       "\n",
       "             purchase_frequency  customer_value    cltv segment  \n",
       "Customer ID                                                      \n",
       "15775.00000             0.00023         0.00006 0.00010       E  \n",
       "14033.00000             0.00023         0.00004 0.00008       E  \n",
       "13687.00000             0.00023         0.00003 0.00006       E  \n",
       "14827.00000             0.00023         0.00000 0.00000       E  \n",
       "14103.00000             0.00023         0.00000 0.00000       E  "
      ]
     },
     "execution_count": 17,
     "metadata": {},
     "output_type": "execute_result"
    }
   ],
   "source": [
    "cltv_df.sort_values(by='cltv',ascending=False).tail()"
   ]
  },
  {
   "cell_type": "code",
   "execution_count": 18,
   "id": "c30d298e",
   "metadata": {
    "execution": {
     "iopub.execute_input": "2025-01-07T11:49:46.745012Z",
     "iopub.status.busy": "2025-01-07T11:49:46.744645Z",
     "iopub.status.idle": "2025-01-07T11:49:46.782413Z",
     "shell.execute_reply": "2025-01-07T11:49:46.781265Z"
    },
    "id": "x6iODkENtXgj",
    "papermill": {
     "duration": 0.048609,
     "end_time": "2025-01-07T11:49:46.784127",
     "exception": false,
     "start_time": "2025-01-07T11:49:46.735518",
     "status": "completed"
    },
    "tags": []
   },
   "outputs": [
    {
     "name": "stderr",
     "output_type": "stream",
     "text": [
      "<ipython-input-18-d378a628f83c>:1: FutureWarning: The default of observed=False is deprecated and will be changed to True in a future version of pandas. Pass observed=False to retain current behavior or observed=True to adopt the future default and silence this warning.\n",
      "  cltv_df.groupby('segment').agg({'count', 'mean', 'sum'})\n"
     ]
    },
    {
     "data": {
      "text/html": [
       "<div>\n",
       "<style scoped>\n",
       "    .dataframe tbody tr th:only-of-type {\n",
       "        vertical-align: middle;\n",
       "    }\n",
       "\n",
       "    .dataframe tbody tr th {\n",
       "        vertical-align: top;\n",
       "    }\n",
       "\n",
       "    .dataframe thead tr th {\n",
       "        text-align: left;\n",
       "    }\n",
       "\n",
       "    .dataframe thead tr:last-of-type th {\n",
       "        text-align: right;\n",
       "    }\n",
       "</style>\n",
       "<table border=\"1\" class=\"dataframe\">\n",
       "  <thead>\n",
       "    <tr>\n",
       "      <th></th>\n",
       "      <th colspan=\"3\" halign=\"left\">Total_transactions</th>\n",
       "      <th colspan=\"3\" halign=\"left\">Total_unit</th>\n",
       "      <th colspan=\"3\" halign=\"left\">Total_price</th>\n",
       "      <th colspan=\"3\" halign=\"left\">average_order_value</th>\n",
       "      <th colspan=\"3\" halign=\"left\">purchase_frequency</th>\n",
       "      <th colspan=\"3\" halign=\"left\">customer_value</th>\n",
       "      <th colspan=\"3\" halign=\"left\">cltv</th>\n",
       "    </tr>\n",
       "    <tr>\n",
       "      <th></th>\n",
       "      <th>count</th>\n",
       "      <th>sum</th>\n",
       "      <th>mean</th>\n",
       "      <th>count</th>\n",
       "      <th>sum</th>\n",
       "      <th>mean</th>\n",
       "      <th>count</th>\n",
       "      <th>sum</th>\n",
       "      <th>mean</th>\n",
       "      <th>count</th>\n",
       "      <th>sum</th>\n",
       "      <th>mean</th>\n",
       "      <th>count</th>\n",
       "      <th>sum</th>\n",
       "      <th>mean</th>\n",
       "      <th>count</th>\n",
       "      <th>sum</th>\n",
       "      <th>mean</th>\n",
       "      <th>count</th>\n",
       "      <th>sum</th>\n",
       "      <th>mean</th>\n",
       "    </tr>\n",
       "    <tr>\n",
       "      <th>segment</th>\n",
       "      <th></th>\n",
       "      <th></th>\n",
       "      <th></th>\n",
       "      <th></th>\n",
       "      <th></th>\n",
       "      <th></th>\n",
       "      <th></th>\n",
       "      <th></th>\n",
       "      <th></th>\n",
       "      <th></th>\n",
       "      <th></th>\n",
       "      <th></th>\n",
       "      <th></th>\n",
       "      <th></th>\n",
       "      <th></th>\n",
       "      <th></th>\n",
       "      <th></th>\n",
       "      <th></th>\n",
       "      <th></th>\n",
       "      <th></th>\n",
       "      <th></th>\n",
       "    </tr>\n",
       "  </thead>\n",
       "  <tbody>\n",
       "    <tr>\n",
       "      <th>E</th>\n",
       "      <td>863</td>\n",
       "      <td>962</td>\n",
       "      <td>1.11472</td>\n",
       "      <td>863</td>\n",
       "      <td>714899</td>\n",
       "      <td>828.38818</td>\n",
       "      <td>863</td>\n",
       "      <td>390699.25300</td>\n",
       "      <td>452.72219</td>\n",
       "      <td>863</td>\n",
       "      <td>1135.77671</td>\n",
       "      <td>1.31608</td>\n",
       "      <td>863</td>\n",
       "      <td>0.22299</td>\n",
       "      <td>0.00026</td>\n",
       "      <td>863</td>\n",
       "      <td>0.27631</td>\n",
       "      <td>0.00032</td>\n",
       "      <td>863</td>\n",
       "      <td>0.50332</td>\n",
       "      <td>0.00058</td>\n",
       "    </tr>\n",
       "    <tr>\n",
       "      <th>D</th>\n",
       "      <td>863</td>\n",
       "      <td>1371</td>\n",
       "      <td>1.58864</td>\n",
       "      <td>863</td>\n",
       "      <td>393849</td>\n",
       "      <td>456.37196</td>\n",
       "      <td>863</td>\n",
       "      <td>490679.34100</td>\n",
       "      <td>568.57398</td>\n",
       "      <td>863</td>\n",
       "      <td>1758.77144</td>\n",
       "      <td>2.03797</td>\n",
       "      <td>863</td>\n",
       "      <td>0.31780</td>\n",
       "      <td>0.00037</td>\n",
       "      <td>863</td>\n",
       "      <td>0.55658</td>\n",
       "      <td>0.00064</td>\n",
       "      <td>863</td>\n",
       "      <td>1.01382</td>\n",
       "      <td>0.00117</td>\n",
       "    </tr>\n",
       "    <tr>\n",
       "      <th>C</th>\n",
       "      <td>862</td>\n",
       "      <td>2279</td>\n",
       "      <td>2.64385</td>\n",
       "      <td>862</td>\n",
       "      <td>557994</td>\n",
       "      <td>647.32483</td>\n",
       "      <td>862</td>\n",
       "      <td>842218.33100</td>\n",
       "      <td>977.05143</td>\n",
       "      <td>862</td>\n",
       "      <td>1889.32030</td>\n",
       "      <td>2.19179</td>\n",
       "      <td>862</td>\n",
       "      <td>0.52828</td>\n",
       "      <td>0.00061</td>\n",
       "      <td>862</td>\n",
       "      <td>0.97285</td>\n",
       "      <td>0.00113</td>\n",
       "      <td>862</td>\n",
       "      <td>1.77208</td>\n",
       "      <td>0.00206</td>\n",
       "    </tr>\n",
       "    <tr>\n",
       "      <th>B</th>\n",
       "      <td>863</td>\n",
       "      <td>3806</td>\n",
       "      <td>4.41020</td>\n",
       "      <td>863</td>\n",
       "      <td>864384</td>\n",
       "      <td>1001.60371</td>\n",
       "      <td>863</td>\n",
       "      <td>1462442.89100</td>\n",
       "      <td>1694.60358</td>\n",
       "      <td>863</td>\n",
       "      <td>2066.32851</td>\n",
       "      <td>2.39436</td>\n",
       "      <td>863</td>\n",
       "      <td>0.88224</td>\n",
       "      <td>0.00102</td>\n",
       "      <td>863</td>\n",
       "      <td>1.73756</td>\n",
       "      <td>0.00201</td>\n",
       "      <td>863</td>\n",
       "      <td>3.16503</td>\n",
       "      <td>0.00367</td>\n",
       "    </tr>\n",
       "    <tr>\n",
       "      <th>A</th>\n",
       "      <td>863</td>\n",
       "      <td>10797</td>\n",
       "      <td>12.51101</td>\n",
       "      <td>863</td>\n",
       "      <td>3008098</td>\n",
       "      <td>3485.62920</td>\n",
       "      <td>863</td>\n",
       "      <td>5645963.45800</td>\n",
       "      <td>6542.25198</td>\n",
       "      <td>863</td>\n",
       "      <td>29719.84767</td>\n",
       "      <td>34.43783</td>\n",
       "      <td>863</td>\n",
       "      <td>2.50278</td>\n",
       "      <td>0.00290</td>\n",
       "      <td>863</td>\n",
       "      <td>15.35292</td>\n",
       "      <td>0.01779</td>\n",
       "      <td>863</td>\n",
       "      <td>27.96586</td>\n",
       "      <td>0.03241</td>\n",
       "    </tr>\n",
       "  </tbody>\n",
       "</table>\n",
       "</div>"
      ],
      "text/plain": [
       "        Total_transactions                 Total_unit                      \\\n",
       "                     count    sum     mean      count      sum       mean   \n",
       "segment                                                                     \n",
       "E                      863    962  1.11472        863   714899  828.38818   \n",
       "D                      863   1371  1.58864        863   393849  456.37196   \n",
       "C                      862   2279  2.64385        862   557994  647.32483   \n",
       "B                      863   3806  4.41020        863   864384 1001.60371   \n",
       "A                      863  10797 12.51101        863  3008098 3485.62920   \n",
       "\n",
       "        Total_price                          average_order_value              \\\n",
       "              count           sum       mean               count         sum   \n",
       "segment                                                                        \n",
       "E               863  390699.25300  452.72219                 863  1135.77671   \n",
       "D               863  490679.34100  568.57398                 863  1758.77144   \n",
       "C               862  842218.33100  977.05143                 862  1889.32030   \n",
       "B               863 1462442.89100 1694.60358                 863  2066.32851   \n",
       "A               863 5645963.45800 6542.25198                 863 29719.84767   \n",
       "\n",
       "                 purchase_frequency                 customer_value           \\\n",
       "            mean              count     sum    mean          count      sum   \n",
       "segment                                                                       \n",
       "E        1.31608                863 0.22299 0.00026            863  0.27631   \n",
       "D        2.03797                863 0.31780 0.00037            863  0.55658   \n",
       "C        2.19179                862 0.52828 0.00061            862  0.97285   \n",
       "B        2.39436                863 0.88224 0.00102            863  1.73756   \n",
       "A       34.43783                863 2.50278 0.00290            863 15.35292   \n",
       "\n",
       "                 cltv                   \n",
       "           mean count      sum    mean  \n",
       "segment                                 \n",
       "E       0.00032   863  0.50332 0.00058  \n",
       "D       0.00064   863  1.01382 0.00117  \n",
       "C       0.00113   862  1.77208 0.00206  \n",
       "B       0.00201   863  3.16503 0.00367  \n",
       "A       0.01779   863 27.96586 0.03241  "
      ]
     },
     "execution_count": 18,
     "metadata": {},
     "output_type": "execute_result"
    }
   ],
   "source": [
    "cltv_df.groupby('segment').agg({'count', 'mean', 'sum'})"
   ]
  },
  {
   "cell_type": "markdown",
   "id": "c7a4c574",
   "metadata": {
    "id": "TyNFbvRAt3jv",
    "papermill": {
     "duration": 0.007788,
     "end_time": "2025-01-07T11:49:46.800102",
     "exception": false,
     "start_time": "2025-01-07T11:49:46.792314",
     "status": "completed"
    },
    "tags": []
   },
   "source": [
    "## Preparation of the File to be Proposed for Campaigns"
   ]
  },
  {
   "cell_type": "code",
   "execution_count": 19,
   "id": "ab16d9c1",
   "metadata": {
    "execution": {
     "iopub.execute_input": "2025-01-07T11:49:46.817645Z",
     "iopub.status.busy": "2025-01-07T11:49:46.817260Z",
     "iopub.status.idle": "2025-01-07T11:49:46.867783Z",
     "shell.execute_reply": "2025-01-07T11:49:46.866889Z"
    },
    "id": "Wwn28NRjto8h",
    "papermill": {
     "duration": 0.061471,
     "end_time": "2025-01-07T11:49:46.869631",
     "exception": false,
     "start_time": "2025-01-07T11:49:46.808160",
     "status": "completed"
    },
    "tags": []
   },
   "outputs": [],
   "source": [
    "cltv_df.to_csv('cltv_segments.csv')"
   ]
  }
 ],
 "metadata": {
  "colab": {
   "provenance": []
  },
  "kaggle": {
   "accelerator": "none",
   "dataSources": [
    {
     "datasetId": 6439819,
     "sourceId": 10394012,
     "sourceType": "datasetVersion"
    },
    {
     "datasetId": 6439917,
     "sourceId": 10394131,
     "sourceType": "datasetVersion"
    }
   ],
   "isGpuEnabled": false,
   "isInternetEnabled": true,
   "language": "python",
   "sourceType": "notebook"
  },
  "kernelspec": {
   "display_name": "Python 3",
   "name": "python3"
  },
  "language_info": {
   "codemirror_mode": {
    "name": "ipython",
    "version": 3
   },
   "file_extension": ".py",
   "mimetype": "text/x-python",
   "name": "python",
   "nbconvert_exporter": "python",
   "pygments_lexer": "ipython3",
   "version": "3.10.12"
  },
  "papermill": {
   "default_parameters": {},
   "duration": 63.030962,
   "end_time": "2025-01-07T11:49:47.497919",
   "environment_variables": {},
   "exception": null,
   "input_path": "__notebook__.ipynb",
   "output_path": "__notebook__.ipynb",
   "parameters": {},
   "start_time": "2025-01-07T11:48:44.466957",
   "version": "2.6.0"
  }
 },
 "nbformat": 4,
 "nbformat_minor": 5
}
